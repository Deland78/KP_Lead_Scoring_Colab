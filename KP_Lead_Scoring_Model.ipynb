{
  "cells": [
    {
      "cell_type": "markdown",
      "metadata": {
        "id": "view-in-github",
        "colab_type": "text"
      },
      "source": [
        "<a href=\"https://colab.research.google.com/github/Deland78/KP_Lead_Scoring_Colab/blob/main/KP_Lead_Scoring_Model.ipynb\" target=\"_parent\"><img src=\"https://colab.research.google.com/assets/colab-badge.svg\" alt=\"Open In Colab\"/></a>"
      ]
    },
    {
      "cell_type": "markdown",
      "metadata": {
        "id": "H7NFojzrJLis"
      },
      "source": [
        "# KP Lead Scoring Model\\n\n",
        "Custom lead scoring model built for education leads requiring sales follow-up."
      ]
    },
    {
      "cell_type": "code",
      "execution_count": null,
      "metadata": {
        "id": "iD2LVJ4lJLit",
        "outputId": "3b4f6ecb-0fc7-4977-8c8e-4dd3fad44272"
      },
      "outputs": [
        {
          "ename": "SyntaxError",
          "evalue": "unexpected character after line continuation character (1934094127.py, line 1)",
          "output_type": "error",
          "traceback": [
            "  \u001b[36mCell\u001b[39m\u001b[36m \u001b[39m\u001b[32mIn[1]\u001b[39m\u001b[32m, line 1\u001b[39m\n\u001b[31m    \u001b[39m\u001b[31mimport pandas as pd\\n\u001b[39m\n                        ^\n\u001b[31mSyntaxError\u001b[39m\u001b[31m:\u001b[39m unexpected character after line continuation character\n"
          ]
        }
      ],
      "source": [
        "import pandas as pd\n",
        "import numpy as np\n",
        "from sklearn.model_selection import train_test_split\n",
        "from sklearn.preprocessing import StandardScaler\n",
        "from sklearn.linear_model import LogisticRegression\n",
        "from sklearn.metrics import accuracy_score, classification_report, roc_auc_score\n",
        "import joblib\n",
        "\n",
        "# Set display options\n",
        "pd.set_option('display.max_columns', None)"
      ]
    },
    {
      "cell_type": "code",
      "execution_count": null,
      "metadata": {
        "id": "IBivpb_nJLiu"
      },
      "outputs": [],
      "source": [
        "# Load the cleaned data\n",
        "df = pd.read_csv('KP_Lead_Scoring_Data_Cleaned.csv')\n",
        "\n",
        "print(f\"Dataset shape: {df.shape}\")\n",
        "print(f\"Conversion rate: {(df['Converted'].sum() / len(df) * 100):.2f}%\")\n",
        "print(f\"Total conversions: {df['Converted'].sum():,}\")"
      ]
    },
    {
      "cell_type": "code",
      "execution_count": null,
      "metadata": {
        "id": "rv5-G-7uJLiv"
      },
      "outputs": [],
      "source": [
        "def create_lead_scoring_features(df):\n",
        "    \"\"\"Create engineered features for lead scoring\"\"\"\n",
        "    df_features = df.copy()\n",
        "\n",
        "    # 1. INTENT URGENCY SCORE\n",
        "    intent_scores = {\n",
        "        'Ready to enrol': 10,\n",
        "        'Ready to enroll': 10,\n",
        "        'Readytoenrol': 10,\n",
        "        'Looking for more information': 6,\n",
        "        'Researching options': 3,\n",
        "        'Unknown': 2,\n",
        "        'unsure': 2\n",
        "    }\n",
        "\n",
        "    df_features['Intent_Score'] = df_features['Intent To Enroll'].fillna('Unknown').map(\n",
        "        lambda x: intent_scores.get(x, 2)\n",
        "    )\n",
        "\n",
        "    # 2. TIMING URGENCY SCORE\n",
        "    timing_scores = {\n",
        "        'within 3 months': 8,\n",
        "        'within 6 months': 5,\n",
        "        'within 12 months': 2,\n",
        "        '12 months plus': 1,\n",
        "        'unsure': 3\n",
        "    }\n",
        "\n",
        "    df_features['Timing_Score'] = df_features['When Like To Begin Studying'].fillna('unsure').map(\n",
        "        lambda x: timing_scores.get(x, 3)\n",
        "    )\n",
        "\n",
        "    # 3. CHANNEL PERFORMANCE SCORE\n",
        "    channel_scores = {\n",
        "        'Unknown': 8,\n",
        "        'Referral': 7,\n",
        "        'Traditional': 6,\n",
        "        'Corporate': 5,\n",
        "        'SEO': 3,\n",
        "        'Affinity': 2,\n",
        "        'Email List': 1,\n",
        "        'PPI': 1,\n",
        "        'PPC': 3\n",
        "    }\n",
        "\n",
        "    df_features['Channel_Score'] = df_features['Channel'].map(\n",
        "        lambda x: channel_scores.get(x, 3)\n",
        "    )\n",
        "\n",
        "    # 4. RETURNING CONTACT FEATURES\n",
        "    df_features['Is_Returning_Contact'] = (df_features['Opportunity Count'] > 1).astype(int)\n",
        "\n",
        "    # 5. EDUCATION LEVEL SCORE\n",
        "    education_scores = {\n",
        "        'Graduate / Masters Degree': 6,\n",
        "        'Postgraduate Diploma': 5,\n",
        "        'Bachelors Degree': 4,\n",
        "        'Diploma': 3,\n",
        "        'Year 12': 2,\n",
        "        'Unknown': 3\n",
        "    }\n",
        "\n",
        "    df_features['Education_Score'] = df_features['Highest Level Of Education'].fillna('Unknown').map(\n",
        "        lambda x: education_scores.get(x, 3)\n",
        "    )\n",
        "\n",
        "    return df_features\n",
        "\n",
        "# Apply feature engineering\n",
        "df_features = create_lead_scoring_features(df)\n",
        "print(\"Feature engineering complete!\")"
      ]
    },
    {
      "cell_type": "code",
      "execution_count": null,
      "metadata": {
        "id": "kcHF8WdGJLiv"
      },
      "outputs": [],
      "source": [
        "# Select features and train model\n",
        "model_features = ['Intent_Score', 'Timing_Score', 'Channel_Score', 'Is_Returning_Contact', 'Education_Score']\n",
        "\n",
        "X = df_features[model_features]\n",
        "y = df_features['Converted']\n",
        "\n",
        "# Split data\n",
        "X_train, X_test, y_train, y_test = train_test_split(X, y, test_size=0.2, random_state=42, stratify=y)\n",
        "\n",
        "# Scale features\n",
        "scaler = StandardScaler()\n",
        "X_train_scaled = scaler.fit_transform(X_train)\n",
        "X_test_scaled = scaler.transform(X_test)\n",
        "\n",
        "# Train model\n",
        "model = LogisticRegression(random_state=42, class_weight='balanced', max_iter=1000)\n",
        "model.fit(X_train_scaled, y_train)\n",
        "\n",
        "print(\"Model training complete!\")"
      ]
    },
    {
      "cell_type": "code",
      "execution_count": null,
      "metadata": {
        "id": "68crRoJlJLiv"
      },
      "outputs": [],
      "source": [
        "# Evaluate model\n",
        "y_pred = model.predict(X_test_scaled)\n",
        "y_pred_proba = model.predict_proba(X_test_scaled)[:, 1]\n",
        "\n",
        "print(\"=== MODEL PERFORMANCE ===\")\n",
        "print(f\"Accuracy: {accuracy_score(y_test, y_pred):.4f}\")\n",
        "print(f\"ROC-AUC: {roc_auc_score(y_test, y_pred_proba):.4f}\")\n",
        "\n",
        "print(\"\\nClassification Report:\")\n",
        "print(classification_report(y_test, y_pred))\n",
        "\n",
        "# Feature importance\n",
        "print(\"\\n=== FEATURE IMPORTANCE ===\")\n",
        "importance_df = pd.DataFrame({\n",
        "    'Feature': model_features,\n",
        "    'Coefficient': model.coef_[0],\n",
        "    'Abs_Importance': np.abs(model.coef_[0])\n",
        "}).sort_values('Abs_Importance', ascending=False)\n",
        "\n",
        "print(importance_df)"
      ]
    },
    {
      "cell_type": "code",
      "execution_count": null,
      "metadata": {
        "id": "Lyq2DSkrJLiv"
      },
      "outputs": [],
      "source": [
        "def score_lead(intent_to_enroll, when_like_to_begin, channel, highest_education, opportunity_count):\n",
        "    \"\"\"Score a new lead (0-100 scale)\"\"\"\n",
        "\n",
        "    intent_scores = {'Ready to enrol': 10, 'Ready to enroll': 10, 'Looking for more information': 6, 'Researching options': 3, 'Unknown': 2, 'unsure': 2}\n",
        "    timing_scores = {'within 3 months': 8, 'within 6 months': 5, 'within 12 months': 2, '12 months plus': 1, 'unsure': 3}\n",
        "    channel_scores = {'Unknown': 8, 'Referral': 7, 'Traditional': 6, 'Corporate': 5, 'SEO': 3, 'Affinity': 2, 'Email List': 1, 'PPI': 1, 'PPC': 3}\n",
        "    education_scores = {'Graduate / Masters Degree': 6, 'Postgraduate Diploma': 5, 'Bachelors Degree': 4, 'Diploma': 3, 'Year 12': 2, 'Unknown': 3}\n",
        "\n",
        "    # Calculate scores\n",
        "    intent_score = intent_scores.get(intent_to_enroll, 2)\n",
        "    timing_score = timing_scores.get(when_like_to_begin, 3)\n",
        "    channel_score = channel_scores.get(channel, 3)\n",
        "    education_score = education_scores.get(highest_education, 3)\n",
        "    is_returning = 1 if opportunity_count > 1 else 0\n",
        "\n",
        "    # Create feature array\n",
        "    features = np.array([[intent_score, timing_score, channel_score, is_returning, education_score]])\n",
        "\n",
        "    # Scale and predict\n",
        "    features_scaled = scaler.transform(features)\n",
        "    probability = model.predict_proba(features_scaled)[0, 1]\n",
        "\n",
        "    return (probability * 100).round(2)\n",
        "\n",
        "print(\"Lead scoring function ready!\")\n",
        "\n",
        "# Test examples\n",
        "print(\"\\n=== SCORING EXAMPLES ===\")\n",
        "print(f\"High priority: {score_lead('Ready to enrol', 'within 3 months', 'Referral', 'Bachelors Degree', 1)}\")\n",
        "print(f\"Medium priority: {score_lead('Researching options', 'within 6 months', 'SEO', 'Diploma', 1)}\")\n",
        "print(f\"Low priority: {score_lead('Researching options', 'within 12 months', 'Email List', 'Year 12', 1)}\")"
      ]
    },
    {
      "cell_type": "code",
      "execution_count": null,
      "metadata": {
        "id": "1a6myn9d7dl"
      },
      "outputs": [],
      "source": [
        "import pandas as pd\n",
        "import numpy as np\n",
        "\n",
        "# Load the cleaned data\n",
        "df = pd.read_csv('KP_Lead_Scoring_Data_Cleaned.csv')\n",
        "\n",
        "print(\"=== DATASET OVERVIEW ===\")\n",
        "print(f\"Shape: {df.shape}\")\n",
        "print(f\"Conversion rate: {df['Converted'].mean():.4f}\")\n",
        "\n",
        "print(\"\\n=== COLUMN SUMMARY ===\")\n",
        "for col in df.columns:\n",
        "    print(f\"\\n--- {col} ---\")\n",
        "    print(f\"Data type: {df[col].dtype}\")\n",
        "    print(f\"Missing values: {df[col].isnull().sum()} ({df[col].isnull().sum()/len(df)*100:.1f}%)\")\n",
        "    print(f\"Unique values: {df[col].nunique()}\")"
      ]
    }
  ],
  "metadata": {
    "kernelspec": {
      "display_name": "Python 3",
      "language": "python",
      "name": "python3"
    },
    "language_info": {
      "codemirror_mode": {
        "name": "ipython",
        "version": 3
      },
      "file_extension": ".py",
      "mimetype": "text/x-python",
      "name": "python",
      "nbconvert_exporter": "python",
      "pygments_lexer": "ipython3",
      "version": "3.13.7"
    },
    "colab": {
      "provenance": [],
      "include_colab_link": true
    }
  },
  "nbformat": 4,
  "nbformat_minor": 0
}