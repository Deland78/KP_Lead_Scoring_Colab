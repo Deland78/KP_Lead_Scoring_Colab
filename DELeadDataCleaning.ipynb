{
  "nbformat": 4,
  "nbformat_minor": 0,
  "metadata": {
    "colab": {
      "provenance": [],
      "include_colab_link": true
    },
    "kernelspec": {
      "name": "python3",
      "display_name": "Python 3"
    },
    "language_info": {
      "name": "python"
    }
  },
  "cells": [
    {
      "cell_type": "markdown",
      "metadata": {
        "id": "view-in-github",
        "colab_type": "text"
      },
      "source": [
        "<a href=\"https://colab.research.google.com/github/Deland78/KP_Lead_Scoring_Colab/blob/main/DELeadDataCleaning.ipynb\" target=\"_parent\"><img src=\"https://colab.research.google.com/assets/colab-badge.svg\" alt=\"Open In Colab\"/></a>"
      ]
    },
    {
      "cell_type": "markdown",
      "source": [
        "# Lead Scoring Raw KP Leads Data Cleansing"
      ],
      "metadata": {
        "id": "FnWBnych0hLK"
      }
    },
    {
      "cell_type": "code",
      "execution_count": null,
      "metadata": {
        "colab": {
          "base_uri": "https://localhost:8080/"
        },
        "id": "v6z821AFXpUp",
        "outputId": "c6e508d9-a09b-4189-af86-69c16116b52c"
      },
      "outputs": [
        {
          "output_type": "stream",
          "name": "stdout",
          "text": [
            "/usr/local/lib/python3.12/dist-packages/gdown/__main__.py:140: FutureWarning: Option `--id` was deprecated in version 4.3.1 and will be removed in 5.0. You don't need to pass it anymore to use a file ID.\n",
            "  warnings.warn(\n",
            "Downloading...\n",
            "From: https://drive.google.com/uc?id=1a6x-x3VCA7vm6Gi5T0aCLO_7YJFQKAr9\n",
            "To: /content/KP_Lead_Scoring_Data.csv\n",
            "100% 6.53M/6.53M [00:00<00:00, 242MB/s]\n"
          ]
        }
      ],
      "source": [
        "# Cell 1: Install helper package and download the CSV from Google Drive\n",
        "# If you prefer to mount Drive manually, you can skip gdown and use drive.mount() instead.\n",
        "\n",
        "!pip install -q gdown  # Install gdown if not already installed\n",
        "\n",
        "import pandas as pd\n",
        "import numpy as np\n",
        "\n",
        "# Google Drive file ID extracted from your shared link\n",
        "file_id = '1a6x-x3VCA7vm6Gi5T0aCLO_7YJFQKAr9'\n",
        "# Download the CSV to the Colab environment\n",
        "!gdown --id $file_id --output 'KP_Lead_Scoring_Data.csv'"
      ]
    },
    {
      "cell_type": "code",
      "source": [
        "# Cell 2: Load the dataset and perform initial cleansing\n",
        "df = pd.read_csv('KP_Lead_Scoring_Data.csv')\n",
        "\n",
        "# Remove any duplicate rows based on the unique identifier\n",
        "df = df.drop_duplicates(subset=['OpportunityId'])\n",
        "\n",
        "# Convert string date columns to datetime\n",
        "date_cols = ['Created On Datetime', 'Applied Datetime', 'Reinquiry Date']\n",
        "for col in date_cols:\n",
        "    df[col] = pd.to_datetime(df[col], errors='coerce')\n",
        "\n",
        "# Add an applied_flag (1 if an application date exists, 0 otherwise)\n",
        "df['applied_flag'] = df['Applied Datetime'].notna().astype(int)\n",
        "\n",
        "# If Lead to Applied Days is missing but dates exist, compute it\n",
        "mask = df['Lead to Applied Days'].isna() & df['applied_flag'].eq(1)\n",
        "df.loc[mask, 'Lead to Applied Days'] = (\n",
        "    df.loc[mask, 'Applied Datetime'] - df.loc[mask, 'Created On Datetime']\n",
        ").dt.days\n"
      ],
      "metadata": {
        "id": "Zpgyht34X48j"
      },
      "execution_count": null,
      "outputs": []
    },
    {
      "cell_type": "code",
      "source": [
        "# Cell 3: Standardize categorical strings\n",
        "# Strip whitespace from key categorical columns\n",
        "cat_cols = [\n",
        "    'Channel','Source','SubSource','Lead Group','Campaign Source Code',\n",
        "    'When Like To Begin Studying','Highest Level Of Education',\n",
        "    'Intent To Enroll','Keyword','Postal Code','Opportunity Type','Country'\n",
        "]\n",
        "for col in cat_cols:\n",
        "    df[col] = df[col].astype(str).str.strip()\n",
        "\n",
        "# Normalize “When Like To Begin Studying” values\n",
        "study_map = {\n",
        "    'within 3 months': 'within 3 months',\n",
        "    '3 months': 'within 3 months',\n",
        "    'within3months': 'within 3 months',\n",
        "    'within 6 months': 'within 6 months',\n",
        "    '6 months': 'within 6 months',\n",
        "    'within6months': 'within 6 months',\n",
        "    'within 12 months': 'within 12 months',\n",
        "    '12 months': 'within 12 months',\n",
        "    'within12months': 'within 12 months',\n",
        "    '12 months plus': '12 months plus',\n",
        "    '12  months plus': '12 months plus',\n",
        "    '12monthsplus': '12 months plus',\n",
        "    'unsure': 'unsure',\n",
        "    ' unsure': 'unsure',\n",
        "    '9 months': '9 months'\n",
        "}\n",
        "df['When Like To Begin Studying'] = df['When Like To Begin Studying'].replace(study_map)\n",
        "\n",
        "# Normalize “Intent To Enroll” values\n",
        "df['Intent To Enroll'] = df['Intent To Enroll'].astype(str).str.lower().str.strip()\n",
        "intent_map = {\n",
        "    'researchingoptions': 'researching options',\n",
        "    'researching study options': 'researching options',\n",
        "    'lookingformoreinformation': 'looking for more information',\n",
        "    'looking for more info': 'looking for more information',\n",
        "    'looking for more information': 'looking for more information',\n",
        "    'looking to get advice': 'need advice or assistance',\n",
        "    'needadviceorassistance': 'need advice or assistance',\n",
        "    'need advice or assistance': 'need advice or assistance',\n",
        "    'ready to enrol': 'ready to enrol',\n",
        "    'readytoenrol': 'ready to enrol',\n",
        "    'ready to enroll': 'ready to enrol'\n",
        "}\n",
        "df['Intent To Enroll'] = df['Intent To Enroll'].replace(intent_map)\n",
        "\n",
        "# Ensure Postal Code is stored as string and fill missing with “Unknown”\n",
        "df['Postal Code'] = df['Postal Code'].replace('nan', np.nan)\n",
        "df['Postal Code'] = df['Postal Code'].astype(object)\n",
        "df['Postal Code'] = df['Postal Code'].fillna('Unknown')\n",
        "\n",
        "# Fill missing categorical values with “Unknown”\n",
        "cols_to_fill = [\n",
        "    'Source','SubSource','Lead Group','Campaign Source Code',\n",
        "    'When Like To Begin Studying','Highest Level Of Education',\n",
        "    'Intent To Enroll','Keyword','Postal Code','Opportunity Type','Country'\n",
        "]\n",
        "for col in cols_to_fill:\n",
        "    df[col] = df[col].fillna('Unknown')\n"
      ],
      "metadata": {
        "id": "C5n1cMVfYAU0"
      },
      "execution_count": null,
      "outputs": []
    },
    {
      "cell_type": "code",
      "source": [
        "# Cell 4: Impute numerical columns and cap outliers\n",
        "\n",
        "num_cols_to_impute = [\n",
        "    'Opportunity Count', 'Days Since Created','Days Between Last Opportunities'\n",
        "]\n",
        "\n",
        "# Handle Lead to Applied Days -- set to NaN if no application\n",
        "# If no application, set to NaN\n",
        "df.loc[df['applied_flag'] == 0, 'Lead to Applied Days'] = np.nan\n",
        "\n",
        "# Now impute other numeric columns\n",
        "for col in num_cols_to_impute:\n",
        "    df[col] = pd.to_numeric(df[col], errors='coerce')\n",
        "    # Keeping mean imputation as previously attempted, or you can change this\n",
        "    df[col] = df[col].fillna(df[col].mean())\n",
        "\n"
      ],
      "metadata": {
        "id": "1ZNkbXyIa-U6"
      },
      "execution_count": null,
      "outputs": []
    },
    {
      "cell_type": "code",
      "source": [
        "# Cell 5: Save the cleaned data back to CSV\n",
        "cleaned_path = 'DE_Lead_Scoring_Cleaned.csv'\n",
        "df.to_csv(cleaned_path, index=False)\n",
        "print(f\"Cleaned data saved to {cleaned_path}\")"
      ],
      "metadata": {
        "colab": {
          "base_uri": "https://localhost:8080/"
        },
        "id": "6oKmjMyodAhX",
        "outputId": "17ea09a2-3836-484a-af67-5dfdd76b00f6"
      },
      "execution_count": null,
      "outputs": [
        {
          "output_type": "stream",
          "name": "stdout",
          "text": [
            "Cleaned data saved to DE_Lead_Scoring_Cleaned.csv\n"
          ]
        }
      ]
    }
  ]
}